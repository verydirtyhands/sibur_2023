{
 "cells": [
  {
   "cell_type": "code",
   "execution_count": 1,
   "metadata": {
    "ExecuteTime": {
     "end_time": "2023-05-21T22:27:50.470177Z",
     "start_time": "2023-05-21T22:27:50.460232Z"
    },
    "id": "eSCJBdVN6C08"
   },
   "outputs": [],
   "source": [
    "# Общеe\n",
    "\n",
    "import os\n",
    "import tqdm\n",
    "import pathlib\n",
    "import numpy as np\n",
    "import pandas as pd\n",
    "import keras\n",
    "from tensorflow.keras.layers import Dense, Input\n",
    "from tensorflow.keras.models import Model, save_model, load_model\n",
    "from tensorflow.keras.optimizers import Adam\n",
    "from tensorflow.keras.callbacks import ModelCheckpoint, EarlyStopping, ReduceLROnPlateau\n",
    "from sklearn.model_selection import train_test_split\n",
    "from sklearn.metrics import mean_absolute_percentage_error"
   ]
  },
  {
   "cell_type": "code",
   "execution_count": 2,
   "metadata": {
    "ExecuteTime": {
     "end_time": "2023-05-21T22:43:35.561938Z",
     "start_time": "2023-05-21T22:43:35.555216Z"
    },
    "id": "F-vF4hHj6C1H"
   },
   "outputs": [],
   "source": [
    "DATA_DIR = pathlib.Path(\"wow/hakaton/best_of_the_best/\")\n",
    "RS = 398476524"
   ]
  },
  {
   "cell_type": "code",
   "execution_count": 3,
   "metadata": {
    "ExecuteTime": {
     "end_time": "2023-05-21T22:43:47.054832Z",
     "start_time": "2023-05-21T22:43:46.857909Z"
    },
    "colab": {
     "base_uri": "https://localhost:8080/",
     "height": 299
    },
    "id": "31f9QewE6C1Q",
    "outputId": "1835c29e-8318-4f36-d9d6-99c78ca49eb0"
   },
   "outputs": [
    {
     "data": {
      "text/html": [
       "<div>\n",
       "<style scoped>\n",
       "    .dataframe tbody tr th:only-of-type {\n",
       "        vertical-align: middle;\n",
       "    }\n",
       "\n",
       "    .dataframe tbody tr th {\n",
       "        vertical-align: top;\n",
       "    }\n",
       "\n",
       "    .dataframe thead th {\n",
       "        text-align: right;\n",
       "    }\n",
       "</style>\n",
       "<table border=\"1\" class=\"dataframe\">\n",
       "  <thead>\n",
       "    <tr style=\"text-align: right;\">\n",
       "      <th></th>\n",
       "      <th>feature0</th>\n",
       "      <th>feature1</th>\n",
       "      <th>feature2</th>\n",
       "      <th>feature3</th>\n",
       "      <th>feature4</th>\n",
       "      <th>feature5</th>\n",
       "      <th>feature6</th>\n",
       "      <th>feature7</th>\n",
       "      <th>feature8</th>\n",
       "      <th>feature9</th>\n",
       "      <th>...</th>\n",
       "      <th>feature17</th>\n",
       "      <th>feature18</th>\n",
       "      <th>feature19</th>\n",
       "      <th>feature20</th>\n",
       "      <th>feature21</th>\n",
       "      <th>feature22</th>\n",
       "      <th>feature23</th>\n",
       "      <th>feature24</th>\n",
       "      <th>target0</th>\n",
       "      <th>target1</th>\n",
       "    </tr>\n",
       "  </thead>\n",
       "  <tbody>\n",
       "    <tr>\n",
       "      <th>0</th>\n",
       "      <td>32.910908</td>\n",
       "      <td>17.376350</td>\n",
       "      <td>77.557840</td>\n",
       "      <td>2.929855</td>\n",
       "      <td>gas1</td>\n",
       "      <td>20.487150</td>\n",
       "      <td>57.633085</td>\n",
       "      <td>49.245392</td>\n",
       "      <td>-44.124381</td>\n",
       "      <td>23.400064</td>\n",
       "      <td>...</td>\n",
       "      <td>14.203652</td>\n",
       "      <td>9.689942</td>\n",
       "      <td>17.951627</td>\n",
       "      <td>24.198589</td>\n",
       "      <td>102.448710</td>\n",
       "      <td>110.529868</td>\n",
       "      <td>56.817260</td>\n",
       "      <td>12.887802</td>\n",
       "      <td>27.050891</td>\n",
       "      <td>6.502743</td>\n",
       "    </tr>\n",
       "    <tr>\n",
       "      <th>1</th>\n",
       "      <td>41.263782</td>\n",
       "      <td>22.419445</td>\n",
       "      <td>47.945514</td>\n",
       "      <td>-25.847472</td>\n",
       "      <td>gas2</td>\n",
       "      <td>21.461239</td>\n",
       "      <td>3.474080</td>\n",
       "      <td>49.659980</td>\n",
       "      <td>-13.553188</td>\n",
       "      <td>-13.047593</td>\n",
       "      <td>...</td>\n",
       "      <td>-14.451904</td>\n",
       "      <td>-0.906120</td>\n",
       "      <td>105.724742</td>\n",
       "      <td>-9.435222</td>\n",
       "      <td>-16.060150</td>\n",
       "      <td>37.286110</td>\n",
       "      <td>61.224272</td>\n",
       "      <td>39.822424</td>\n",
       "      <td>84.127890</td>\n",
       "      <td>76.578716</td>\n",
       "    </tr>\n",
       "    <tr>\n",
       "      <th>2</th>\n",
       "      <td>25.580283</td>\n",
       "      <td>17.376350</td>\n",
       "      <td>77.654180</td>\n",
       "      <td>2.799411</td>\n",
       "      <td>gas1</td>\n",
       "      <td>20.487150</td>\n",
       "      <td>28.938295</td>\n",
       "      <td>49.245392</td>\n",
       "      <td>-44.124381</td>\n",
       "      <td>20.610679</td>\n",
       "      <td>...</td>\n",
       "      <td>14.395054</td>\n",
       "      <td>9.779019</td>\n",
       "      <td>17.951638</td>\n",
       "      <td>24.999453</td>\n",
       "      <td>101.728213</td>\n",
       "      <td>111.471534</td>\n",
       "      <td>52.664304</td>\n",
       "      <td>12.887802</td>\n",
       "      <td>22.080133</td>\n",
       "      <td>3.036043</td>\n",
       "    </tr>\n",
       "    <tr>\n",
       "      <th>3</th>\n",
       "      <td>33.756900</td>\n",
       "      <td>17.376350</td>\n",
       "      <td>73.049625</td>\n",
       "      <td>2.953982</td>\n",
       "      <td>gas1</td>\n",
       "      <td>20.487150</td>\n",
       "      <td>28.932311</td>\n",
       "      <td>49.245392</td>\n",
       "      <td>-44.124381</td>\n",
       "      <td>18.107963</td>\n",
       "      <td>...</td>\n",
       "      <td>14.184314</td>\n",
       "      <td>9.798969</td>\n",
       "      <td>17.951675</td>\n",
       "      <td>23.990300</td>\n",
       "      <td>101.312113</td>\n",
       "      <td>115.589451</td>\n",
       "      <td>56.840719</td>\n",
       "      <td>12.887802</td>\n",
       "      <td>30.234082</td>\n",
       "      <td>8.910795</td>\n",
       "    </tr>\n",
       "    <tr>\n",
       "      <th>4</th>\n",
       "      <td>4.223732</td>\n",
       "      <td>38.772534</td>\n",
       "      <td>48.015553</td>\n",
       "      <td>-25.843943</td>\n",
       "      <td>gas2</td>\n",
       "      <td>24.635721</td>\n",
       "      <td>12.011581</td>\n",
       "      <td>51.030938</td>\n",
       "      <td>84.244199</td>\n",
       "      <td>-17.735680</td>\n",
       "      <td>...</td>\n",
       "      <td>-14.439953</td>\n",
       "      <td>8.262354</td>\n",
       "      <td>90.187207</td>\n",
       "      <td>-2.901661</td>\n",
       "      <td>-16.060150</td>\n",
       "      <td>37.398779</td>\n",
       "      <td>40.488468</td>\n",
       "      <td>128.295838</td>\n",
       "      <td>71.128092</td>\n",
       "      <td>50.475082</td>\n",
       "    </tr>\n",
       "  </tbody>\n",
       "</table>\n",
       "<p>5 rows × 27 columns</p>\n",
       "</div>"
      ],
      "text/plain": [
       "    feature0   feature1   feature2   feature3 feature4   feature5   feature6  \\\n",
       "0  32.910908  17.376350  77.557840   2.929855     gas1  20.487150  57.633085   \n",
       "1  41.263782  22.419445  47.945514 -25.847472     gas2  21.461239   3.474080   \n",
       "2  25.580283  17.376350  77.654180   2.799411     gas1  20.487150  28.938295   \n",
       "3  33.756900  17.376350  73.049625   2.953982     gas1  20.487150  28.932311   \n",
       "4   4.223732  38.772534  48.015553 -25.843943     gas2  24.635721  12.011581   \n",
       "\n",
       "    feature7   feature8   feature9  ...  feature17  feature18   feature19  \\\n",
       "0  49.245392 -44.124381  23.400064  ...  14.203652   9.689942   17.951627   \n",
       "1  49.659980 -13.553188 -13.047593  ... -14.451904  -0.906120  105.724742   \n",
       "2  49.245392 -44.124381  20.610679  ...  14.395054   9.779019   17.951638   \n",
       "3  49.245392 -44.124381  18.107963  ...  14.184314   9.798969   17.951675   \n",
       "4  51.030938  84.244199 -17.735680  ... -14.439953   8.262354   90.187207   \n",
       "\n",
       "   feature20   feature21   feature22  feature23   feature24    target0  \\\n",
       "0  24.198589  102.448710  110.529868  56.817260   12.887802  27.050891   \n",
       "1  -9.435222  -16.060150   37.286110  61.224272   39.822424  84.127890   \n",
       "2  24.999453  101.728213  111.471534  52.664304   12.887802  22.080133   \n",
       "3  23.990300  101.312113  115.589451  56.840719   12.887802  30.234082   \n",
       "4  -2.901661  -16.060150   37.398779  40.488468  128.295838  71.128092   \n",
       "\n",
       "     target1  \n",
       "0   6.502743  \n",
       "1  76.578716  \n",
       "2   3.036043  \n",
       "3   8.910795  \n",
       "4  50.475082  \n",
       "\n",
       "[5 rows x 27 columns]"
      ]
     },
     "execution_count": 3,
     "metadata": {},
     "output_type": "execute_result"
    }
   ],
   "source": [
    "train = pd.read_parquet('train.parquet')\n",
    "train.head()"
   ]
  },
  {
   "cell_type": "code",
   "execution_count": 4,
   "metadata": {
    "colab": {
     "base_uri": "https://localhost:8080/"
    },
    "id": "OMjL_ez7Crr5",
    "outputId": "652125c9-deb7-42dd-bea8-27e171ed6f5e"
   },
   "outputs": [
    {
     "data": {
      "text/plain": [
       "(153417, 27)"
      ]
     },
     "execution_count": 4,
     "metadata": {},
     "output_type": "execute_result"
    }
   ],
   "source": [
    "train.shape"
   ]
  },
  {
   "cell_type": "code",
   "execution_count": 5,
   "metadata": {
    "ExecuteTime": {
     "end_time": "2023-05-20T08:11:49.445101Z",
     "start_time": "2023-05-20T08:11:49.436433Z"
    },
    "id": "cfQVXJ396C1V"
   },
   "outputs": [],
   "source": [
    "CAT = [\"feature4\"]\n",
    "TARGETS = [\"target0\", \"target1\"]\n",
    "FTS = train.filter(like=\"feature\").columns.difference(CAT)"
   ]
  },
  {
   "cell_type": "code",
   "execution_count": 6,
   "metadata": {
    "ExecuteTime": {
     "end_time": "2023-05-20T08:11:49.690777Z",
     "start_time": "2023-05-20T08:11:49.677608Z"
    },
    "id": "_jyYZNa96C1Z"
   },
   "outputs": [],
   "source": [
    "train[\"gas\"] = 0\n",
    "train.loc[train.feature4==\"gas2\", \"gas\"] = 1"
   ]
  },
  {
   "cell_type": "code",
   "execution_count": 7,
   "metadata": {
    "ExecuteTime": {
     "end_time": "2023-05-20T08:11:49.695462Z",
     "start_time": "2023-05-20T08:11:49.692438Z"
    },
    "id": "cTdd1qwd6C1a"
   },
   "outputs": [],
   "source": [
    "FTS = FTS.union([\"gas\"])\n",
    "FTS = FTS.drop('feature15')"
   ]
  },
  {
   "cell_type": "code",
   "execution_count": 8,
   "metadata": {
    "id": "lIzPYPSpoCEF"
   },
   "outputs": [],
   "source": [
    "FTS2 = np.concatenate([FTS, ['target0']])"
   ]
  },
  {
   "cell_type": "code",
   "execution_count": 9,
   "metadata": {},
   "outputs": [
    {
     "data": {
      "text/plain": [
       "17.322363949953623"
      ]
     },
     "execution_count": 9,
     "metadata": {},
     "output_type": "execute_result"
    }
   ],
   "source": [
    "train['target0'].quantile(0.05)"
   ]
  },
  {
   "cell_type": "markdown",
   "metadata": {},
   "source": [
    "будем валидировать данные на критических значениях , у этого подхода есть минус мы лишаем возможность учиться на критических данных , но можем увидеть как модель маштабируется , что приблизит результат к тесту"
   ]
  },
  {
   "cell_type": "code",
   "execution_count": 10,
   "metadata": {
    "ExecuteTime": {
     "end_time": "2023-05-20T08:11:49.737824Z",
     "start_time": "2023-05-20T08:11:49.697518Z"
    },
    "id": "Hx1qY_-i6C1b"
   },
   "outputs": [],
   "source": [
    "train_val1 = train[(train['target0'] < train['target0'].quantile(0.05)) | (train['target0'] > train['target0'].quantile(0.95)) | (train['target1'] > train['target1'].quantile(0.95)) | (train['target1'] < train['target1'].quantile(0.05))]\n",
    "train_tr1 = train[~((train['target0'] < train['target0'].quantile(0.05)) | (train['target0'] > train['target0'].quantile(0.95)) | (train['target1'] > train['target1'].quantile(0.95)) | (train['target1'] < train['target1'].quantile(0.05)))]\n",
    "X_val1 = train_val1[FTS]\n",
    "y_val1 = train_val1[TARGETS[0]]\n",
    "X_tr1 = train_tr1[FTS]\n",
    "y_tr1 = train_tr1[TARGETS[0]]"
   ]
  },
  {
   "cell_type": "code",
   "execution_count": 11,
   "metadata": {},
   "outputs": [],
   "source": [
    "X_val2 = train_val1[FTS]\n",
    "y_val2 = train_val1[TARGETS[1]]\n",
    "X_tr2 = train_tr1[FTS]\n",
    "y_tr2 = train_tr1[TARGETS[1]]"
   ]
  },
  {
   "cell_type": "markdown",
   "metadata": {
    "id": "WM9xJsVMYbGP"
   },
   "source": [
    "## DL модель"
   ]
  },
  {
   "cell_type": "code",
   "execution_count": 12,
   "metadata": {
    "id": "qReadw2oc2To"
   },
   "outputs": [],
   "source": [
    "# колбэки\n",
    "earlystop_callb = EarlyStopping(monitor='val_mape',\n",
    "                                patience=50,\n",
    "                                )\n",
    "checkpoint_callb = ModelCheckpoint(filepath='model_targ0.h5',\n",
    "                                   monitor='val_mape',\n",
    "                                   save_best_only=True)\n",
    "\n",
    "reducelr_callb = ReduceLROnPlateau(monitor = 'val_mape', \n",
    "                                   factor=0.1,\n",
    "                                   patience=30,\n",
    "                                   verbose=1)\n",
    "\n",
    "checkpoint_callb1 = ModelCheckpoint(filepath='model_targ1.h5',\n",
    "                                   monitor='val_mape',\n",
    "                                   save_best_only=True)"
   ]
  },
  {
   "cell_type": "markdown",
   "metadata": {
    "id": "1KwRJ5boB2K2"
   },
   "source": [
    "### targ0"
   ]
  },
  {
   "cell_type": "code",
   "execution_count": 13,
   "metadata": {
    "colab": {
     "base_uri": "https://localhost:8080/"
    },
    "id": "Nu7079QdB70c",
    "outputId": "3c0bb8e6-a624-4f24-98e9-fabb3d4808bb"
   },
   "outputs": [
    {
     "name": "stdout",
     "output_type": "stream",
     "text": [
      "Model: \"model\"\n",
      "_________________________________________________________________\n",
      " Layer (type)                Output Shape              Param #   \n",
      "=================================================================\n",
      " input_1 (InputLayer)        [(None, 24)]              0         \n",
      "                                                                 \n",
      " dense (Dense)               (None, 512)               12800     \n",
      "                                                                 \n",
      " dense_1 (Dense)             (None, 256)               131328    \n",
      "                                                                 \n",
      " dense_2 (Dense)             (None, 64)                16448     \n",
      "                                                                 \n",
      " targ0 (Dense)               (None, 1)                 65        \n",
      "                                                                 \n",
      "=================================================================\n",
      "Total params: 160,641\n",
      "Trainable params: 160,641\n",
      "Non-trainable params: 0\n",
      "_________________________________________________________________\n"
     ]
    }
   ],
   "source": [
    "inp1 = Input(shape=(24,))\n",
    "\n",
    "x1 = Dense(512, activation='relu')(inp1)\n",
    "x1 = Dense(256, activation='relu')(x1)\n",
    "x1 = Dense(64, activation='relu')(x1)\n",
    "x1 = Dense(1, activation='linear', name='targ0')(x1)\n",
    "\n",
    "model_one_targ0 = Model(inp1, x1)\n",
    "\n",
    "model_one_targ0.compile(optimizer=Adam(0.001), loss='mse', metrics=['mape'])\n",
    "\n",
    "model_one_targ0.summary()"
   ]
  },
  {
   "cell_type": "code",
   "execution_count": 14,
   "metadata": {
    "colab": {
     "base_uri": "https://localhost:8080/"
    },
    "id": "B-bKJFZTB70d",
    "outputId": "787de712-7eea-482f-a21f-c3ff20fb7672"
   },
   "outputs": [
    {
     "name": "stdout",
     "output_type": "stream",
     "text": [
      "Epoch 1/1000\n",
      "498/498 [==============================] - 2s 4ms/step - loss: 11.9156 - mape: 2.9891 - val_loss: 0.4179 - val_mape: 1.6122 - lr: 0.0010\n",
      "Epoch 2/1000\n",
      "498/498 [==============================] - 2s 3ms/step - loss: 0.1825 - mape: 0.8920 - val_loss: 0.2761 - val_mape: 1.2528 - lr: 0.0010\n",
      "Epoch 3/1000\n",
      "498/498 [==============================] - 2s 3ms/step - loss: 0.1728 - mape: 0.8737 - val_loss: 0.4140 - val_mape: 1.3506 - lr: 0.0010\n",
      "Epoch 4/1000\n",
      "498/498 [==============================] - 2s 3ms/step - loss: 0.2179 - mape: 0.9736 - val_loss: 0.3362 - val_mape: 1.7219 - lr: 0.0010\n",
      "Epoch 5/1000\n",
      "498/498 [==============================] - 2s 3ms/step - loss: 0.2008 - mape: 0.9398 - val_loss: 0.2990 - val_mape: 1.1693 - lr: 0.0010\n",
      "Epoch 6/1000\n",
      "498/498 [==============================] - 2s 3ms/step - loss: 0.2300 - mape: 0.9884 - val_loss: 0.3358 - val_mape: 1.6259 - lr: 0.0010\n",
      "Epoch 7/1000\n",
      "498/498 [==============================] - 2s 3ms/step - loss: 0.2554 - mape: 1.0159 - val_loss: 0.3217 - val_mape: 1.4071 - lr: 0.0010\n",
      "Epoch 8/1000\n",
      "498/498 [==============================] - 2s 3ms/step - loss: 0.2063 - mape: 0.9299 - val_loss: 0.2092 - val_mape: 1.0490 - lr: 0.0010\n",
      "Epoch 9/1000\n",
      "498/498 [==============================] - 2s 3ms/step - loss: 0.2120 - mape: 0.8904 - val_loss: 0.3158 - val_mape: 1.1358 - lr: 0.0010\n",
      "Epoch 10/1000\n",
      "498/498 [==============================] - 2s 3ms/step - loss: 0.1963 - mape: 0.8975 - val_loss: 0.2821 - val_mape: 1.4816 - lr: 0.0010\n",
      "Epoch 11/1000\n",
      "498/498 [==============================] - 2s 3ms/step - loss: 0.2195 - mape: 0.9284 - val_loss: 0.3017 - val_mape: 1.3929 - lr: 0.0010\n",
      "Epoch 12/1000\n",
      "498/498 [==============================] - 2s 3ms/step - loss: 0.1933 - mape: 0.8974 - val_loss: 0.4098 - val_mape: 1.6126 - lr: 0.0010\n",
      "Epoch 13/1000\n",
      "498/498 [==============================] - 2s 3ms/step - loss: 0.1610 - mape: 0.8349 - val_loss: 0.2680 - val_mape: 1.5755 - lr: 0.0010\n",
      "Epoch 14/1000\n",
      "498/498 [==============================] - 2s 3ms/step - loss: 0.1681 - mape: 0.8397 - val_loss: 0.4945 - val_mape: 2.1141 - lr: 0.0010\n",
      "Epoch 15/1000\n",
      "498/498 [==============================] - 2s 3ms/step - loss: 0.1682 - mape: 0.8407 - val_loss: 0.2128 - val_mape: 1.2856 - lr: 0.0010\n",
      "Epoch 16/1000\n",
      "498/498 [==============================] - 2s 3ms/step - loss: 0.1446 - mape: 0.7962 - val_loss: 0.3058 - val_mape: 1.0854 - lr: 0.0010\n",
      "Epoch 17/1000\n",
      "498/498 [==============================] - 2s 3ms/step - loss: 0.1600 - mape: 0.8054 - val_loss: 0.3342 - val_mape: 1.2675 - lr: 0.0010\n",
      "Epoch 18/1000\n",
      "498/498 [==============================] - 2s 3ms/step - loss: 0.1430 - mape: 0.7872 - val_loss: 0.5267 - val_mape: 1.2872 - lr: 0.0010\n",
      "Epoch 19/1000\n",
      "498/498 [==============================] - 2s 3ms/step - loss: 0.1381 - mape: 0.7753 - val_loss: 0.4482 - val_mape: 1.4119 - lr: 0.0010\n",
      "Epoch 20/1000\n",
      "498/498 [==============================] - 2s 3ms/step - loss: 0.1363 - mape: 0.7666 - val_loss: 0.1790 - val_mape: 1.1734 - lr: 0.0010\n",
      "Epoch 21/1000\n",
      "498/498 [==============================] - 2s 3ms/step - loss: 0.1297 - mape: 0.7540 - val_loss: 0.3207 - val_mape: 1.0806 - lr: 0.0010\n",
      "Epoch 22/1000\n",
      "498/498 [==============================] - 2s 3ms/step - loss: 0.1315 - mape: 0.7540 - val_loss: 0.5261 - val_mape: 1.2391 - lr: 0.0010\n",
      "Epoch 23/1000\n",
      "498/498 [==============================] - 2s 3ms/step - loss: 0.1306 - mape: 0.7515 - val_loss: 0.2369 - val_mape: 1.3288 - lr: 0.0010\n",
      "Epoch 24/1000\n",
      "498/498 [==============================] - 2s 3ms/step - loss: 0.1150 - mape: 0.7242 - val_loss: 0.1872 - val_mape: 1.3066 - lr: 0.0010\n",
      "Epoch 25/1000\n",
      "498/498 [==============================] - 2s 3ms/step - loss: 0.1237 - mape: 0.7374 - val_loss: 0.1331 - val_mape: 0.9930 - lr: 0.0010\n",
      "Epoch 26/1000\n",
      "498/498 [==============================] - 2s 3ms/step - loss: 0.1154 - mape: 0.7213 - val_loss: 0.2918 - val_mape: 1.1961 - lr: 0.0010\n",
      "Epoch 27/1000\n",
      "498/498 [==============================] - 2s 3ms/step - loss: 0.1039 - mape: 0.6949 - val_loss: 0.1975 - val_mape: 1.2224 - lr: 0.0010\n",
      "Epoch 28/1000\n",
      "498/498 [==============================] - 2s 3ms/step - loss: 0.1253 - mape: 0.7427 - val_loss: 0.2887 - val_mape: 1.2048 - lr: 0.0010\n",
      "Epoch 29/1000\n",
      "498/498 [==============================] - 2s 3ms/step - loss: 0.1079 - mape: 0.7041 - val_loss: 0.2362 - val_mape: 1.1188 - lr: 0.0010\n",
      "Epoch 30/1000\n",
      "498/498 [==============================] - 2s 3ms/step - loss: 0.1130 - mape: 0.7209 - val_loss: 0.2846 - val_mape: 1.5625 - lr: 0.0010\n",
      "Epoch 31/1000\n",
      "498/498 [==============================] - 2s 3ms/step - loss: 0.1142 - mape: 0.7182 - val_loss: 0.1804 - val_mape: 1.0711 - lr: 0.0010\n",
      "Epoch 32/1000\n",
      "498/498 [==============================] - 2s 3ms/step - loss: 0.0943 - mape: 0.6636 - val_loss: 0.2174 - val_mape: 1.2932 - lr: 0.0010\n",
      "Epoch 33/1000\n",
      "498/498 [==============================] - 2s 4ms/step - loss: 0.1060 - mape: 0.7034 - val_loss: 0.3219 - val_mape: 1.6205 - lr: 0.0010\n",
      "Epoch 34/1000\n",
      "498/498 [==============================] - 2s 4ms/step - loss: 0.1242 - mape: 0.7237 - val_loss: 0.1849 - val_mape: 1.0519 - lr: 0.0010\n",
      "Epoch 35/1000\n",
      "498/498 [==============================] - 2s 3ms/step - loss: 0.1055 - mape: 0.6932 - val_loss: 0.2207 - val_mape: 1.1417 - lr: 0.0010\n",
      "Epoch 36/1000\n",
      "498/498 [==============================] - 2s 3ms/step - loss: 0.0975 - mape: 0.6769 - val_loss: 0.1726 - val_mape: 0.9982 - lr: 0.0010\n",
      "Epoch 37/1000\n",
      "498/498 [==============================] - 2s 4ms/step - loss: 0.0948 - mape: 0.6724 - val_loss: 0.1308 - val_mape: 0.9544 - lr: 0.0010\n",
      "Epoch 38/1000\n",
      "498/498 [==============================] - 2s 4ms/step - loss: 0.0992 - mape: 0.6780 - val_loss: 0.1354 - val_mape: 0.9330 - lr: 0.0010\n",
      "Epoch 39/1000\n",
      "498/498 [==============================] - 2s 4ms/step - loss: 0.1004 - mape: 0.6855 - val_loss: 0.2592 - val_mape: 1.0803 - lr: 0.0010\n",
      "Epoch 40/1000\n",
      "498/498 [==============================] - 2s 3ms/step - loss: 0.1014 - mape: 0.6816 - val_loss: 0.1800 - val_mape: 1.2271 - lr: 0.0010\n",
      "Epoch 41/1000\n",
      "498/498 [==============================] - 2s 3ms/step - loss: 0.0900 - mape: 0.6546 - val_loss: 0.1590 - val_mape: 1.0322 - lr: 0.0010\n",
      "Epoch 42/1000\n",
      "498/498 [==============================] - 2s 3ms/step - loss: 0.1043 - mape: 0.6818 - val_loss: 0.1470 - val_mape: 0.9443 - lr: 0.0010\n",
      "Epoch 43/1000\n",
      "498/498 [==============================] - 2s 3ms/step - loss: 0.0796 - mape: 0.6337 - val_loss: 0.1428 - val_mape: 0.9706 - lr: 0.0010\n",
      "Epoch 44/1000\n",
      "498/498 [==============================] - 2s 3ms/step - loss: 0.0944 - mape: 0.6642 - val_loss: 0.6680 - val_mape: 1.6607 - lr: 0.0010\n",
      "Epoch 45/1000\n",
      "498/498 [==============================] - 2s 4ms/step - loss: 0.0965 - mape: 0.6586 - val_loss: 0.1211 - val_mape: 0.8396 - lr: 0.0010\n",
      "Epoch 46/1000\n",
      "498/498 [==============================] - 2s 4ms/step - loss: 0.0874 - mape: 0.6491 - val_loss: 0.1154 - val_mape: 0.9147 - lr: 0.0010\n",
      "Epoch 47/1000\n",
      "498/498 [==============================] - 2s 3ms/step - loss: 0.0937 - mape: 0.6618 - val_loss: 0.2796 - val_mape: 1.0194 - lr: 0.0010\n",
      "Epoch 48/1000\n",
      "498/498 [==============================] - 2s 4ms/step - loss: 0.0842 - mape: 0.6408 - val_loss: 0.2051 - val_mape: 1.1823 - lr: 0.0010\n",
      "Epoch 49/1000\n",
      "498/498 [==============================] - 2s 3ms/step - loss: 0.0854 - mape: 0.6421 - val_loss: 0.1848 - val_mape: 0.8955 - lr: 0.0010\n",
      "Epoch 50/1000\n",
      "498/498 [==============================] - 2s 3ms/step - loss: 0.0896 - mape: 0.6557 - val_loss: 0.1484 - val_mape: 1.0178 - lr: 0.0010\n",
      "Epoch 51/1000\n",
      "498/498 [==============================] - 2s 4ms/step - loss: 0.0907 - mape: 0.6502 - val_loss: 0.1709 - val_mape: 0.9397 - lr: 0.0010\n",
      "Epoch 52/1000\n",
      "498/498 [==============================] - 2s 4ms/step - loss: 0.0728 - mape: 0.6106 - val_loss: 0.1459 - val_mape: 1.1015 - lr: 0.0010\n",
      "Epoch 53/1000\n",
      "498/498 [==============================] - 2s 4ms/step - loss: 0.0958 - mape: 0.6661 - val_loss: 0.3113 - val_mape: 1.3724 - lr: 0.0010\n",
      "Epoch 54/1000\n",
      "498/498 [==============================] - 2s 4ms/step - loss: 0.0760 - mape: 0.6146 - val_loss: 0.1306 - val_mape: 0.9703 - lr: 0.0010\n",
      "Epoch 55/1000\n",
      "498/498 [==============================] - 2s 3ms/step - loss: 0.0979 - mape: 0.6609 - val_loss: 0.1234 - val_mape: 0.8974 - lr: 0.0010\n",
      "Epoch 56/1000\n",
      "498/498 [==============================] - 2s 3ms/step - loss: 0.0825 - mape: 0.6375 - val_loss: 0.2993 - val_mape: 1.4512 - lr: 0.0010\n",
      "Epoch 57/1000\n",
      "498/498 [==============================] - 2s 3ms/step - loss: 0.0820 - mape: 0.6262 - val_loss: 0.1303 - val_mape: 0.9720 - lr: 0.0010\n",
      "Epoch 58/1000\n",
      "498/498 [==============================] - 2s 3ms/step - loss: 0.0759 - mape: 0.6129 - val_loss: 0.2354 - val_mape: 1.0621 - lr: 0.0010\n",
      "Epoch 59/1000\n",
      "498/498 [==============================] - 2s 3ms/step - loss: 0.0832 - mape: 0.6303 - val_loss: 0.2794 - val_mape: 1.5174 - lr: 0.0010\n",
      "Epoch 60/1000\n",
      "498/498 [==============================] - 2s 3ms/step - loss: 0.0847 - mape: 0.6320 - val_loss: 0.1184 - val_mape: 0.9633 - lr: 0.0010\n",
      "Epoch 61/1000\n",
      "498/498 [==============================] - 2s 3ms/step - loss: 0.0767 - mape: 0.6097 - val_loss: 0.0990 - val_mape: 0.7575 - lr: 0.0010\n",
      "Epoch 62/1000\n",
      "498/498 [==============================] - 2s 3ms/step - loss: 0.0747 - mape: 0.6023 - val_loss: 0.2145 - val_mape: 0.9265 - lr: 0.0010\n",
      "Epoch 63/1000\n",
      "498/498 [==============================] - 2s 3ms/step - loss: 0.0758 - mape: 0.6042 - val_loss: 0.1323 - val_mape: 0.9952 - lr: 0.0010\n",
      "Epoch 64/1000\n",
      "498/498 [==============================] - 2s 4ms/step - loss: 0.0858 - mape: 0.6258 - val_loss: 0.1189 - val_mape: 0.7762 - lr: 0.0010\n",
      "Epoch 65/1000\n",
      "498/498 [==============================] - 2s 4ms/step - loss: 0.0695 - mape: 0.5830 - val_loss: 0.1328 - val_mape: 1.0588 - lr: 0.0010\n",
      "Epoch 66/1000\n",
      "498/498 [==============================] - 2s 4ms/step - loss: 0.0765 - mape: 0.5990 - val_loss: 0.1627 - val_mape: 1.1797 - lr: 0.0010\n",
      "Epoch 67/1000\n",
      "498/498 [==============================] - 2s 4ms/step - loss: 0.0776 - mape: 0.6014 - val_loss: 0.1134 - val_mape: 0.7778 - lr: 0.0010\n",
      "Epoch 68/1000\n",
      "498/498 [==============================] - 2s 3ms/step - loss: 0.0718 - mape: 0.5829 - val_loss: 0.3238 - val_mape: 1.2575 - lr: 0.0010\n",
      "Epoch 69/1000\n",
      "498/498 [==============================] - 2s 3ms/step - loss: 0.0791 - mape: 0.5998 - val_loss: 0.0911 - val_mape: 0.6891 - lr: 0.0010\n",
      "Epoch 70/1000\n",
      "498/498 [==============================] - 2s 3ms/step - loss: 0.0808 - mape: 0.6056 - val_loss: 0.1143 - val_mape: 0.9778 - lr: 0.0010\n",
      "Epoch 71/1000\n",
      "498/498 [==============================] - 2s 3ms/step - loss: 0.0656 - mape: 0.5603 - val_loss: 0.1488 - val_mape: 0.7362 - lr: 0.0010\n",
      "Epoch 72/1000\n",
      "498/498 [==============================] - 2s 3ms/step - loss: 0.0827 - mape: 0.6016 - val_loss: 0.1944 - val_mape: 0.7871 - lr: 0.0010\n",
      "Epoch 73/1000\n",
      "498/498 [==============================] - 2s 3ms/step - loss: 0.0682 - mape: 0.5591 - val_loss: 0.1788 - val_mape: 1.0803 - lr: 0.0010\n",
      "Epoch 74/1000\n",
      "498/498 [==============================] - 2s 4ms/step - loss: 0.0668 - mape: 0.5568 - val_loss: 0.1086 - val_mape: 0.7614 - lr: 0.0010\n",
      "Epoch 75/1000\n",
      "498/498 [==============================] - 2s 4ms/step - loss: 0.0694 - mape: 0.5570 - val_loss: 0.0885 - val_mape: 0.6323 - lr: 0.0010\n",
      "Epoch 76/1000\n",
      "498/498 [==============================] - 2s 4ms/step - loss: 0.0738 - mape: 0.5696 - val_loss: 0.0867 - val_mape: 0.6021 - lr: 0.0010\n",
      "Epoch 77/1000\n",
      "498/498 [==============================] - 2s 3ms/step - loss: 0.0641 - mape: 0.5304 - val_loss: 0.1570 - val_mape: 0.7730 - lr: 0.0010\n",
      "Epoch 78/1000\n",
      "498/498 [==============================] - 2s 4ms/step - loss: 0.0793 - mape: 0.5690 - val_loss: 0.1249 - val_mape: 0.6976 - lr: 0.0010\n",
      "Epoch 79/1000\n",
      "498/498 [==============================] - 2s 3ms/step - loss: 0.0629 - mape: 0.5161 - val_loss: 0.1030 - val_mape: 0.6486 - lr: 0.0010\n",
      "Epoch 80/1000\n",
      "498/498 [==============================] - 2s 3ms/step - loss: 0.0564 - mape: 0.4951 - val_loss: 0.1808 - val_mape: 0.7559 - lr: 0.0010\n",
      "Epoch 81/1000\n",
      "498/498 [==============================] - 2s 4ms/step - loss: 0.0682 - mape: 0.5273 - val_loss: 0.1111 - val_mape: 0.6247 - lr: 0.0010\n",
      "Epoch 82/1000\n",
      "498/498 [==============================] - 2s 4ms/step - loss: 0.0666 - mape: 0.5201 - val_loss: 0.0852 - val_mape: 0.7236 - lr: 0.0010\n",
      "Epoch 83/1000\n",
      "498/498 [==============================] - 2s 3ms/step - loss: 0.0690 - mape: 0.5212 - val_loss: 0.1980 - val_mape: 0.7468 - lr: 0.0010\n",
      "Epoch 84/1000\n",
      "498/498 [==============================] - 2s 3ms/step - loss: 0.0607 - mape: 0.4950 - val_loss: 0.1203 - val_mape: 0.7951 - lr: 0.0010\n",
      "Epoch 85/1000\n",
      "498/498 [==============================] - 2s 3ms/step - loss: 0.0607 - mape: 0.4960 - val_loss: 0.0803 - val_mape: 0.5820 - lr: 0.0010\n",
      "Epoch 86/1000\n",
      "498/498 [==============================] - 2s 3ms/step - loss: 0.0567 - mape: 0.4780 - val_loss: 0.0819 - val_mape: 0.6377 - lr: 0.0010\n",
      "Epoch 87/1000\n",
      "498/498 [==============================] - 2s 3ms/step - loss: 0.0581 - mape: 0.4824 - val_loss: 0.0972 - val_mape: 0.8199 - lr: 0.0010\n",
      "Epoch 88/1000\n",
      "498/498 [==============================] - 2s 3ms/step - loss: 0.0637 - mape: 0.5007 - val_loss: 0.1409 - val_mape: 0.6837 - lr: 0.0010\n",
      "Epoch 89/1000\n",
      "498/498 [==============================] - 2s 3ms/step - loss: 0.0580 - mape: 0.4724 - val_loss: 0.1594 - val_mape: 0.7878 - lr: 0.0010\n",
      "Epoch 90/1000\n",
      "498/498 [==============================] - 2s 3ms/step - loss: 0.0615 - mape: 0.4902 - val_loss: 0.0913 - val_mape: 0.6605 - lr: 0.0010\n",
      "Epoch 91/1000\n",
      "498/498 [==============================] - 2s 3ms/step - loss: 0.0586 - mape: 0.4770 - val_loss: 0.0896 - val_mape: 0.6322 - lr: 0.0010\n",
      "Epoch 92/1000\n",
      "498/498 [==============================] - 2s 3ms/step - loss: 0.0560 - mape: 0.4614 - val_loss: 0.1238 - val_mape: 0.6748 - lr: 0.0010\n",
      "Epoch 93/1000\n",
      "498/498 [==============================] - 2s 3ms/step - loss: 0.0610 - mape: 0.4736 - val_loss: 0.0775 - val_mape: 0.6055 - lr: 0.0010\n",
      "Epoch 94/1000\n",
      "498/498 [==============================] - 2s 3ms/step - loss: 0.0515 - mape: 0.4478 - val_loss: 0.1095 - val_mape: 0.6253 - lr: 0.0010\n",
      "Epoch 95/1000\n",
      "498/498 [==============================] - 2s 3ms/step - loss: 0.0514 - mape: 0.4465 - val_loss: 0.1443 - val_mape: 0.8885 - lr: 0.0010\n",
      "Epoch 96/1000\n",
      "498/498 [==============================] - 2s 4ms/step - loss: 0.0602 - mape: 0.4761 - val_loss: 0.1030 - val_mape: 0.8296 - lr: 0.0010\n",
      "Epoch 97/1000\n",
      "498/498 [==============================] - 2s 3ms/step - loss: 0.0568 - mape: 0.4627 - val_loss: 0.1419 - val_mape: 0.6740 - lr: 0.0010\n",
      "Epoch 98/1000\n",
      "498/498 [==============================] - 2s 3ms/step - loss: 0.0531 - mape: 0.4463 - val_loss: 0.0677 - val_mape: 0.4994 - lr: 0.0010\n",
      "Epoch 99/1000\n",
      "498/498 [==============================] - 2s 3ms/step - loss: 0.0569 - mape: 0.4550 - val_loss: 0.0771 - val_mape: 0.5110 - lr: 0.0010\n",
      "Epoch 100/1000\n",
      "498/498 [==============================] - 2s 3ms/step - loss: 0.0543 - mape: 0.4508 - val_loss: 0.0984 - val_mape: 0.5825 - lr: 0.0010\n",
      "Epoch 101/1000\n",
      "498/498 [==============================] - 2s 3ms/step - loss: 0.0538 - mape: 0.4452 - val_loss: 0.0934 - val_mape: 0.5689 - lr: 0.0010\n",
      "Epoch 102/1000\n",
      "498/498 [==============================] - 2s 3ms/step - loss: 0.0479 - mape: 0.4188 - val_loss: 0.1778 - val_mape: 0.8893 - lr: 0.0010\n",
      "Epoch 103/1000\n",
      "498/498 [==============================] - 2s 3ms/step - loss: 0.0590 - mape: 0.4557 - val_loss: 0.1111 - val_mape: 0.5974 - lr: 0.0010\n",
      "Epoch 104/1000\n",
      "498/498 [==============================] - 2s 3ms/step - loss: 0.0486 - mape: 0.4201 - val_loss: 0.1063 - val_mape: 0.5658 - lr: 0.0010\n",
      "Epoch 105/1000\n",
      "498/498 [==============================] - 2s 3ms/step - loss: 0.0485 - mape: 0.4215 - val_loss: 0.0685 - val_mape: 0.5108 - lr: 0.0010\n",
      "Epoch 106/1000\n",
      "498/498 [==============================] - 2s 3ms/step - loss: 0.0498 - mape: 0.4283 - val_loss: 0.0684 - val_mape: 0.5102 - lr: 0.0010\n",
      "Epoch 107/1000\n",
      "498/498 [==============================] - 2s 4ms/step - loss: 0.0557 - mape: 0.4420 - val_loss: 0.0938 - val_mape: 0.6939 - lr: 0.0010\n",
      "Epoch 108/1000\n",
      "498/498 [==============================] - 2s 4ms/step - loss: 0.0501 - mape: 0.4211 - val_loss: 0.0777 - val_mape: 0.5123 - lr: 0.0010\n",
      "Epoch 109/1000\n",
      "498/498 [==============================] - 2s 3ms/step - loss: 0.0502 - mape: 0.4258 - val_loss: 0.0649 - val_mape: 0.4862 - lr: 0.0010\n",
      "Epoch 110/1000\n",
      "498/498 [==============================] - 2s 3ms/step - loss: 0.0490 - mape: 0.4172 - val_loss: 0.1149 - val_mape: 0.6373 - lr: 0.0010\n",
      "Epoch 111/1000\n",
      "498/498 [==============================] - 2s 3ms/step - loss: 0.0581 - mape: 0.4441 - val_loss: 0.1005 - val_mape: 0.5790 - lr: 0.0010\n",
      "Epoch 112/1000\n",
      "498/498 [==============================] - 2s 3ms/step - loss: 0.0488 - mape: 0.4163 - val_loss: 0.0816 - val_mape: 0.6002 - lr: 0.0010\n",
      "Epoch 113/1000\n",
      "498/498 [==============================] - 2s 3ms/step - loss: 0.0428 - mape: 0.3903 - val_loss: 0.0778 - val_mape: 0.5849 - lr: 0.0010\n",
      "Epoch 114/1000\n",
      "498/498 [==============================] - 2s 3ms/step - loss: 0.0477 - mape: 0.4077 - val_loss: 0.0743 - val_mape: 0.5242 - lr: 0.0010\n",
      "Epoch 115/1000\n",
      "498/498 [==============================] - 2s 3ms/step - loss: 0.0491 - mape: 0.4180 - val_loss: 0.1129 - val_mape: 0.6374 - lr: 0.0010\n",
      "Epoch 116/1000\n",
      "498/498 [==============================] - 2s 3ms/step - loss: 0.0511 - mape: 0.4199 - val_loss: 0.0825 - val_mape: 0.5264 - lr: 0.0010\n",
      "Epoch 117/1000\n",
      "498/498 [==============================] - 2s 3ms/step - loss: 0.0493 - mape: 0.4183 - val_loss: 0.1851 - val_mape: 1.2073 - lr: 0.0010\n",
      "Epoch 118/1000\n",
      "498/498 [==============================] - 2s 3ms/step - loss: 0.0508 - mape: 0.4203 - val_loss: 0.1155 - val_mape: 0.6595 - lr: 0.0010\n",
      "Epoch 119/1000\n",
      "498/498 [==============================] - 2s 3ms/step - loss: 0.0442 - mape: 0.3908 - val_loss: 0.1071 - val_mape: 0.5722 - lr: 0.0010\n",
      "Epoch 120/1000\n",
      "498/498 [==============================] - 2s 4ms/step - loss: 0.0469 - mape: 0.4013 - val_loss: 0.2041 - val_mape: 0.7719 - lr: 0.0010\n",
      "Epoch 121/1000\n",
      "498/498 [==============================] - 2s 3ms/step - loss: 0.0485 - mape: 0.4120 - val_loss: 0.0861 - val_mape: 0.5567 - lr: 0.0010\n",
      "Epoch 122/1000\n",
      "498/498 [==============================] - 2s 4ms/step - loss: 0.0441 - mape: 0.3898 - val_loss: 0.0700 - val_mape: 0.5138 - lr: 0.0010\n",
      "Epoch 123/1000\n",
      "498/498 [==============================] - 2s 3ms/step - loss: 0.0488 - mape: 0.4071 - val_loss: 0.0864 - val_mape: 0.5652 - lr: 0.0010\n",
      "Epoch 124/1000\n",
      "498/498 [==============================] - 2s 3ms/step - loss: 0.0463 - mape: 0.4013 - val_loss: 0.0668 - val_mape: 0.5189 - lr: 0.0010\n",
      "Epoch 125/1000\n",
      "498/498 [==============================] - 2s 3ms/step - loss: 0.0470 - mape: 0.3962 - val_loss: 0.0837 - val_mape: 0.5371 - lr: 0.0010\n",
      "Epoch 126/1000\n",
      "498/498 [==============================] - 2s 3ms/step - loss: 0.0430 - mape: 0.3904 - val_loss: 0.1178 - val_mape: 0.6068 - lr: 0.0010\n",
      "Epoch 127/1000\n",
      "498/498 [==============================] - 2s 3ms/step - loss: 0.0438 - mape: 0.3883 - val_loss: 0.0768 - val_mape: 0.5362 - lr: 0.0010\n",
      "Epoch 128/1000\n",
      "498/498 [==============================] - 2s 3ms/step - loss: 0.0512 - mape: 0.4107 - val_loss: 0.2136 - val_mape: 0.8941 - lr: 0.0010\n",
      "Epoch 129/1000\n",
      "498/498 [==============================] - 2s 3ms/step - loss: 0.0411 - mape: 0.3773 - val_loss: 0.0610 - val_mape: 0.4939 - lr: 0.0010\n",
      "Epoch 130/1000\n",
      "498/498 [==============================] - 2s 3ms/step - loss: 0.0489 - mape: 0.4065 - val_loss: 0.0617 - val_mape: 0.4991 - lr: 0.0010\n",
      "Epoch 131/1000\n",
      "498/498 [==============================] - 2s 3ms/step - loss: 0.0409 - mape: 0.3743 - val_loss: 0.0773 - val_mape: 0.5104 - lr: 0.0010\n",
      "Epoch 132/1000\n",
      "498/498 [==============================] - 2s 3ms/step - loss: 0.0462 - mape: 0.4030 - val_loss: 0.0900 - val_mape: 0.5420 - lr: 0.0010\n",
      "Epoch 133/1000\n",
      "498/498 [==============================] - 2s 4ms/step - loss: 0.0467 - mape: 0.3983 - val_loss: 0.0847 - val_mape: 0.7655 - lr: 0.0010\n",
      "Epoch 134/1000\n",
      "498/498 [==============================] - 2s 3ms/step - loss: 0.0443 - mape: 0.3877 - val_loss: 0.1033 - val_mape: 0.7096 - lr: 0.0010\n",
      "Epoch 135/1000\n",
      "498/498 [==============================] - 2s 3ms/step - loss: 0.0479 - mape: 0.4020 - val_loss: 0.1626 - val_mape: 0.8039 - lr: 0.0010\n",
      "Epoch 136/1000\n",
      "498/498 [==============================] - 2s 3ms/step - loss: 0.0526 - mape: 0.4133 - val_loss: 0.0633 - val_mape: 0.4831 - lr: 0.0010\n",
      "Epoch 137/1000\n",
      "498/498 [==============================] - 2s 3ms/step - loss: 0.0423 - mape: 0.3775 - val_loss: 0.0751 - val_mape: 0.6127 - lr: 0.0010\n",
      "Epoch 138/1000\n",
      "498/498 [==============================] - 2s 3ms/step - loss: 0.0422 - mape: 0.3793 - val_loss: 0.0609 - val_mape: 0.5673 - lr: 0.0010\n",
      "Epoch 139/1000\n",
      "498/498 [==============================] - 2s 3ms/step - loss: 0.0456 - mape: 0.3907 - val_loss: 0.0836 - val_mape: 0.6474 - lr: 0.0010\n",
      "Epoch 140/1000\n",
      "498/498 [==============================] - 2s 3ms/step - loss: 0.0419 - mape: 0.3756 - val_loss: 0.0846 - val_mape: 0.6592 - lr: 0.0010\n",
      "Epoch 141/1000\n",
      "498/498 [==============================] - 2s 3ms/step - loss: 0.0440 - mape: 0.3812 - val_loss: 0.0684 - val_mape: 0.5490 - lr: 0.0010\n",
      "Epoch 142/1000\n",
      "498/498 [==============================] - 2s 3ms/step - loss: 0.0443 - mape: 0.3854 - val_loss: 0.0814 - val_mape: 0.6958 - lr: 0.0010\n",
      "Epoch 143/1000\n",
      "498/498 [==============================] - 2s 3ms/step - loss: 0.0528 - mape: 0.4164 - val_loss: 0.1139 - val_mape: 0.6987 - lr: 0.0010\n",
      "Epoch 144/1000\n",
      "498/498 [==============================] - 2s 4ms/step - loss: 0.0406 - mape: 0.3686 - val_loss: 0.0692 - val_mape: 0.5317 - lr: 0.0010\n",
      "Epoch 145/1000\n",
      "498/498 [==============================] - 2s 4ms/step - loss: 0.0426 - mape: 0.3836 - val_loss: 0.0723 - val_mape: 0.5286 - lr: 0.0010\n",
      "Epoch 146/1000\n",
      "498/498 [==============================] - 2s 4ms/step - loss: 0.0460 - mape: 0.3856 - val_loss: 0.0984 - val_mape: 0.6058 - lr: 0.0010\n",
      "Epoch 147/1000\n",
      "498/498 [==============================] - 2s 4ms/step - loss: 0.0408 - mape: 0.3765 - val_loss: 0.1024 - val_mape: 0.6089 - lr: 0.0010\n",
      "Epoch 148/1000\n",
      "498/498 [==============================] - 2s 4ms/step - loss: 0.0412 - mape: 0.3698 - val_loss: 0.0929 - val_mape: 0.6010 - lr: 0.0010\n",
      "Epoch 149/1000\n",
      "498/498 [==============================] - 2s 3ms/step - loss: 0.0437 - mape: 0.3838 - val_loss: 0.0582 - val_mape: 0.4928 - lr: 0.0010\n",
      "Epoch 150/1000\n",
      "498/498 [==============================] - 2s 3ms/step - loss: 0.0464 - mape: 0.3917 - val_loss: 0.0903 - val_mape: 0.6251 - lr: 0.0010\n",
      "Epoch 151/1000\n",
      "498/498 [==============================] - 2s 3ms/step - loss: 0.0452 - mape: 0.3868 - val_loss: 0.0605 - val_mape: 0.4996 - lr: 0.0010\n",
      "Epoch 152/1000\n",
      "498/498 [==============================] - 2s 3ms/step - loss: 0.0419 - mape: 0.3770 - val_loss: 0.1968 - val_mape: 0.7481 - lr: 0.0010\n",
      "Epoch 153/1000\n",
      "498/498 [==============================] - 2s 4ms/step - loss: 0.0497 - mape: 0.4033 - val_loss: 0.0653 - val_mape: 0.5371 - lr: 0.0010\n",
      "Epoch 154/1000\n",
      "498/498 [==============================] - 2s 4ms/step - loss: 0.0403 - mape: 0.3671 - val_loss: 0.0856 - val_mape: 0.6149 - lr: 0.0010\n",
      "Epoch 155/1000\n",
      "498/498 [==============================] - 2s 4ms/step - loss: 0.0387 - mape: 0.3669 - val_loss: 0.2099 - val_mape: 0.7647 - lr: 0.0010\n",
      "Epoch 156/1000\n",
      "498/498 [==============================] - 2s 4ms/step - loss: 0.0431 - mape: 0.3887 - val_loss: 0.0773 - val_mape: 0.6832 - lr: 0.0010\n",
      "Epoch 157/1000\n",
      "498/498 [==============================] - 2s 3ms/step - loss: 0.0391 - mape: 0.3662 - val_loss: 0.1477 - val_mape: 0.7086 - lr: 0.0010\n",
      "Epoch 158/1000\n",
      "498/498 [==============================] - 2s 3ms/step - loss: 0.0442 - mape: 0.3822 - val_loss: 0.0660 - val_mape: 0.5410 - lr: 0.0010\n",
      "Epoch 159/1000\n",
      "498/498 [==============================] - 2s 3ms/step - loss: 0.0415 - mape: 0.3713 - val_loss: 0.1473 - val_mape: 0.7048 - lr: 0.0010\n",
      "Epoch 160/1000\n",
      "498/498 [==============================] - 2s 4ms/step - loss: 0.0429 - mape: 0.3833 - val_loss: 0.0869 - val_mape: 0.7049 - lr: 0.0010\n",
      "Epoch 161/1000\n",
      "498/498 [==============================] - 2s 4ms/step - loss: 0.0404 - mape: 0.3722 - val_loss: 0.1088 - val_mape: 0.6708 - lr: 0.0010\n",
      "Epoch 162/1000\n",
      "498/498 [==============================] - 2s 4ms/step - loss: 0.0487 - mape: 0.4009 - val_loss: 0.0867 - val_mape: 0.6954 - lr: 0.0010\n",
      "Epoch 163/1000\n",
      "498/498 [==============================] - 2s 4ms/step - loss: 0.0362 - mape: 0.3500 - val_loss: 0.0659 - val_mape: 0.6137 - lr: 0.0010\n",
      "Epoch 164/1000\n",
      "498/498 [==============================] - 2s 4ms/step - loss: 0.0444 - mape: 0.3850 - val_loss: 0.0800 - val_mape: 0.6363 - lr: 0.0010\n",
      "Epoch 165/1000\n",
      "498/498 [==============================] - 2s 4ms/step - loss: 0.0464 - mape: 0.3873 - val_loss: 0.1527 - val_mape: 0.8883 - lr: 0.0010\n",
      "Epoch 166/1000\n",
      "495/498 [============================>.] - ETA: 0s - loss: 0.0397 - mape: 0.3681\n",
      "Epoch 166: ReduceLROnPlateau reducing learning rate to 0.00010000000474974513.\n",
      "498/498 [==============================] - 2s 4ms/step - loss: 0.0397 - mape: 0.3678 - val_loss: 0.0795 - val_mape: 0.5899 - lr: 0.0010\n",
      "Epoch 167/1000\n",
      "498/498 [==============================] - 2s 4ms/step - loss: 0.0215 - mape: 0.2702 - val_loss: 0.0664 - val_mape: 0.5523 - lr: 1.0000e-04\n",
      "Epoch 168/1000\n",
      "498/498 [==============================] - 2s 3ms/step - loss: 0.0214 - mape: 0.2685 - val_loss: 0.0722 - val_mape: 0.6286 - lr: 1.0000e-04\n",
      "Epoch 169/1000\n",
      "498/498 [==============================] - 2s 3ms/step - loss: 0.0213 - mape: 0.2677 - val_loss: 0.0667 - val_mape: 0.5581 - lr: 1.0000e-04\n",
      "Epoch 170/1000\n",
      "498/498 [==============================] - 2s 4ms/step - loss: 0.0214 - mape: 0.2683 - val_loss: 0.0664 - val_mape: 0.5602 - lr: 1.0000e-04\n",
      "Epoch 171/1000\n",
      "498/498 [==============================] - 2s 4ms/step - loss: 0.0217 - mape: 0.2700 - val_loss: 0.0658 - val_mape: 0.5811 - lr: 1.0000e-04\n",
      "Epoch 172/1000\n",
      "498/498 [==============================] - 2s 4ms/step - loss: 0.0217 - mape: 0.2702 - val_loss: 0.0693 - val_mape: 0.5620 - lr: 1.0000e-04\n",
      "Epoch 173/1000\n",
      "498/498 [==============================] - 2s 4ms/step - loss: 0.0219 - mape: 0.2708 - val_loss: 0.0730 - val_mape: 0.5754 - lr: 1.0000e-04\n",
      "Epoch 174/1000\n",
      "498/498 [==============================] - 2s 4ms/step - loss: 0.0217 - mape: 0.2693 - val_loss: 0.0632 - val_mape: 0.5572 - lr: 1.0000e-04\n",
      "Epoch 175/1000\n",
      "498/498 [==============================] - 2s 4ms/step - loss: 0.0219 - mape: 0.2712 - val_loss: 0.0642 - val_mape: 0.5357 - lr: 1.0000e-04\n",
      "Epoch 176/1000\n",
      "498/498 [==============================] - 2s 3ms/step - loss: 0.0219 - mape: 0.2710 - val_loss: 0.0680 - val_mape: 0.5445 - lr: 1.0000e-04\n",
      "Epoch 177/1000\n",
      "498/498 [==============================] - 2s 4ms/step - loss: 0.0221 - mape: 0.2719 - val_loss: 0.0625 - val_mape: 0.5442 - lr: 1.0000e-04\n",
      "Epoch 178/1000\n",
      "498/498 [==============================] - 2s 3ms/step - loss: 0.0215 - mape: 0.2691 - val_loss: 0.0717 - val_mape: 0.5747 - lr: 1.0000e-04\n",
      "Epoch 179/1000\n",
      "498/498 [==============================] - 2s 3ms/step - loss: 0.0218 - mape: 0.2704 - val_loss: 0.0649 - val_mape: 0.5713 - lr: 1.0000e-04\n",
      "Epoch 180/1000\n",
      "498/498 [==============================] - 2s 3ms/step - loss: 0.0216 - mape: 0.2687 - val_loss: 0.0643 - val_mape: 0.5511 - lr: 1.0000e-04\n",
      "Epoch 181/1000\n",
      "498/498 [==============================] - 2s 3ms/step - loss: 0.0217 - mape: 0.2693 - val_loss: 0.0741 - val_mape: 0.5746 - lr: 1.0000e-04\n",
      "Epoch 182/1000\n",
      "498/498 [==============================] - 2s 3ms/step - loss: 0.0218 - mape: 0.2693 - val_loss: 0.0680 - val_mape: 0.6064 - lr: 1.0000e-04\n",
      "Epoch 183/1000\n",
      "498/498 [==============================] - 2s 3ms/step - loss: 0.0217 - mape: 0.2697 - val_loss: 0.0640 - val_mape: 0.5463 - lr: 1.0000e-04\n",
      "Epoch 184/1000\n",
      "498/498 [==============================] - 2s 3ms/step - loss: 0.0216 - mape: 0.2678 - val_loss: 0.0640 - val_mape: 0.5612 - lr: 1.0000e-04\n",
      "Epoch 185/1000\n",
      "498/498 [==============================] - 2s 4ms/step - loss: 0.0218 - mape: 0.2694 - val_loss: 0.0653 - val_mape: 0.5487 - lr: 1.0000e-04\n",
      "Epoch 186/1000\n",
      "498/498 [==============================] - 2s 4ms/step - loss: 0.0215 - mape: 0.2677 - val_loss: 0.0678 - val_mape: 0.5596 - lr: 1.0000e-04\n"
     ]
    }
   ],
   "source": [
    "history = model_one_targ0.fit(X_tr1, \n",
    "                              y_tr1, \n",
    "                              epochs=1000, \n",
    "                              batch_size=256, \n",
    "                              validation_data=(X_val1, y_val1),\n",
    "                              callbacks=[reducelr_callb,\n",
    "                                         checkpoint_callb,\n",
    "                                         earlystop_callb\n",
    "                                         ]\n",
    "                              )"
   ]
  },
  {
   "cell_type": "code",
   "execution_count": 15,
   "metadata": {
    "id": "2FBJc6d2B70e"
   },
   "outputs": [],
   "source": [
    "model_one_targ0 = load_model('model_targ0.h5')"
   ]
  },
  {
   "cell_type": "code",
   "execution_count": 16,
   "metadata": {
    "colab": {
     "base_uri": "https://localhost:8080/"
    },
    "id": "pAss79DGB70e",
    "outputId": "1dd01e72-5df7-4224-a68a-911c2348b568"
   },
   "outputs": [
    {
     "name": "stdout",
     "output_type": "stream",
     "text": [
      "3979/3979 [==============================] - 4s 1ms/step\n",
      "816/816 [==============================] - 1s 1ms/step\n"
     ]
    }
   ],
   "source": [
    "pred = np.array(model_one_targ0.predict(X_tr1))\n",
    "pred1 = np.array(model_one_targ0.predict(X_val1))"
   ]
  },
  {
   "cell_type": "code",
   "execution_count": 17,
   "metadata": {
    "ExecuteTime": {
     "end_time": "2023-05-20T08:12:38.318940Z",
     "start_time": "2023-05-20T08:12:38.305583Z"
    },
    "colab": {
     "base_uri": "https://localhost:8080/"
    },
    "id": "zjC5V4yQB70f",
    "outputId": "8d98179b-9fce-47ad-de40-2baa12cf5603"
   },
   "outputs": [
    {
     "name": "stdout",
     "output_type": "stream",
     "text": [
      "MAPE (train): 0.379 %\n",
      "MAPE (val): 0.483 %\n"
     ]
    }
   ],
   "source": [
    "print(f\"MAPE (train): {mean_absolute_percentage_error(y_tr1, pred) * 100:.3f} %\")\n",
    "print(f\"MAPE (val): {mean_absolute_percentage_error(y_val1, pred1) * 100:.3f} %\")"
   ]
  },
  {
   "cell_type": "code",
   "execution_count": 18,
   "metadata": {
    "id": "JWfTQvYwD7Ja"
   },
   "outputs": [],
   "source": [
    "model_one_targ0.save('model_targ0.h5')"
   ]
  },
  {
   "cell_type": "markdown",
   "metadata": {
    "id": "5D55qQftvxcC"
   },
   "source": [
    "### targ1"
   ]
  },
  {
   "cell_type": "code",
   "execution_count": 19,
   "metadata": {
    "colab": {
     "base_uri": "https://localhost:8080/"
    },
    "id": "lipYxU9zvxcG",
    "outputId": "6fe85c09-beb8-40c6-8a50-71b50ce4b4eb"
   },
   "outputs": [
    {
     "name": "stdout",
     "output_type": "stream",
     "text": [
      "Model: \"model_1\"\n",
      "_________________________________________________________________\n",
      " Layer (type)                Output Shape              Param #   \n",
      "=================================================================\n",
      " input_2 (InputLayer)        [(None, 24)]              0         \n",
      "                                                                 \n",
      " dense_3 (Dense)             (None, 512)               12800     \n",
      "                                                                 \n",
      " dense_4 (Dense)             (None, 256)               131328    \n",
      "                                                                 \n",
      " dense_5 (Dense)             (None, 64)                16448     \n",
      "                                                                 \n",
      " targ0 (Dense)               (None, 1)                 65        \n",
      "                                                                 \n",
      "=================================================================\n",
      "Total params: 160,641\n",
      "Trainable params: 160,641\n",
      "Non-trainable params: 0\n",
      "_________________________________________________________________\n"
     ]
    }
   ],
   "source": [
    "inp1 = Input(shape=(24,))\n",
    "\n",
    "x1 = Dense(512, activation='relu')(inp1)\n",
    "x1 = Dense(256, activation='relu')(x1)\n",
    "x1 = Dense(64, activation='relu')(x1)\n",
    "x1 = Dense(1, activation='linear', name='targ0')(x1)\n",
    "\n",
    "model_one_targ1 = Model(inp1, x1)\n",
    "\n",
    "model_one_targ1.compile(optimizer=Adam(0.001), loss='mse', metrics=['mape'])\n",
    "\n",
    "model_one_targ1.summary()"
   ]
  },
  {
   "cell_type": "code",
   "execution_count": 20,
   "metadata": {
    "colab": {
     "base_uri": "https://localhost:8080/"
    },
    "id": "pXjXIMptvxcK",
    "outputId": "0b772030-de09-4aec-c676-87716a3aa53f"
   },
   "outputs": [
    {
     "name": "stdout",
     "output_type": "stream",
     "text": [
      "Epoch 1/1000\n",
      "498/498 [==============================] - 2s 4ms/step - loss: 9.0309 - mape: 11.5812 - val_loss: 3.2976 - val_mape: 6.8609 - lr: 0.0010\n",
      "Epoch 2/1000\n",
      "498/498 [==============================] - 2s 3ms/step - loss: 0.7244 - mape: 4.8289 - val_loss: 3.9579 - val_mape: 9.2120 - lr: 0.0010\n",
      "Epoch 3/1000\n",
      "498/498 [==============================] - 2s 3ms/step - loss: 0.5659 - mape: 4.5810 - val_loss: 6.7067 - val_mape: 20.8293 - lr: 0.0010\n",
      "Epoch 4/1000\n",
      "498/498 [==============================] - 2s 3ms/step - loss: 0.4861 - mape: 4.1345 - val_loss: 2.9547 - val_mape: 5.2804 - lr: 0.0010\n",
      "Epoch 5/1000\n",
      "498/498 [==============================] - 2s 3ms/step - loss: 0.5176 - mape: 4.0892 - val_loss: 3.1142 - val_mape: 5.4179 - lr: 0.0010\n",
      "Epoch 6/1000\n",
      "498/498 [==============================] - 2s 4ms/step - loss: 0.4909 - mape: 3.8660 - val_loss: 4.9815 - val_mape: 8.4184 - lr: 0.0010\n",
      "Epoch 7/1000\n",
      "498/498 [==============================] - 2s 4ms/step - loss: 0.4476 - mape: 3.5592 - val_loss: 5.1010 - val_mape: 7.0905 - lr: 0.0010\n",
      "Epoch 8/1000\n",
      "498/498 [==============================] - 2s 4ms/step - loss: 0.4459 - mape: 3.4784 - val_loss: 3.9707 - val_mape: 5.0006 - lr: 0.0010\n",
      "Epoch 9/1000\n",
      "498/498 [==============================] - 2s 4ms/step - loss: 0.4137 - mape: 3.2528 - val_loss: 5.5276 - val_mape: 6.7773 - lr: 0.0010\n",
      "Epoch 10/1000\n",
      "498/498 [==============================] - 2s 4ms/step - loss: 0.3920 - mape: 3.1212 - val_loss: 3.7146 - val_mape: 5.2446 - lr: 0.0010\n",
      "Epoch 11/1000\n",
      "498/498 [==============================] - 2s 4ms/step - loss: 0.4230 - mape: 3.1561 - val_loss: 4.1968 - val_mape: 5.6608 - lr: 0.0010\n",
      "Epoch 12/1000\n",
      "498/498 [==============================] - 2s 4ms/step - loss: 0.3802 - mape: 2.9208 - val_loss: 2.9473 - val_mape: 6.0981 - lr: 0.0010\n",
      "Epoch 13/1000\n",
      "498/498 [==============================] - 2s 4ms/step - loss: 0.3960 - mape: 2.9512 - val_loss: 3.2175 - val_mape: 4.6696 - lr: 0.0010\n",
      "Epoch 14/1000\n",
      "498/498 [==============================] - 2s 4ms/step - loss: 0.3962 - mape: 2.8468 - val_loss: 3.6851 - val_mape: 5.0847 - lr: 0.0010\n",
      "Epoch 15/1000\n",
      "498/498 [==============================] - 2s 4ms/step - loss: 0.3734 - mape: 2.7316 - val_loss: 2.2469 - val_mape: 4.1918 - lr: 0.0010\n",
      "Epoch 16/1000\n",
      "498/498 [==============================] - 2s 3ms/step - loss: 0.3468 - mape: 2.6766 - val_loss: 3.3493 - val_mape: 4.5779 - lr: 0.0010\n",
      "Epoch 17/1000\n",
      "498/498 [==============================] - 2s 4ms/step - loss: 0.3594 - mape: 2.7353 - val_loss: 2.0838 - val_mape: 4.8956 - lr: 0.0010\n",
      "Epoch 18/1000\n",
      "498/498 [==============================] - 2s 3ms/step - loss: 0.3271 - mape: 2.5249 - val_loss: 3.3779 - val_mape: 4.6897 - lr: 0.0010\n",
      "Epoch 19/1000\n",
      "498/498 [==============================] - 2s 4ms/step - loss: 0.3604 - mape: 2.5900 - val_loss: 2.5230 - val_mape: 4.9349 - lr: 0.0010\n",
      "Epoch 20/1000\n",
      "498/498 [==============================] - 2s 3ms/step - loss: 0.3385 - mape: 2.5909 - val_loss: 4.7378 - val_mape: 5.2334 - lr: 0.0010\n",
      "Epoch 21/1000\n",
      "498/498 [==============================] - 2s 4ms/step - loss: 0.3694 - mape: 2.6155 - val_loss: 2.7574 - val_mape: 4.1307 - lr: 0.0010\n",
      "Epoch 22/1000\n",
      "498/498 [==============================] - 2s 4ms/step - loss: 0.3216 - mape: 2.4654 - val_loss: 2.1410 - val_mape: 4.1697 - lr: 0.0010\n",
      "Epoch 23/1000\n",
      "498/498 [==============================] - 2s 4ms/step - loss: 0.3339 - mape: 2.4657 - val_loss: 2.4255 - val_mape: 4.6094 - lr: 0.0010\n",
      "Epoch 24/1000\n",
      "498/498 [==============================] - 2s 4ms/step - loss: 0.3465 - mape: 2.4973 - val_loss: 3.3183 - val_mape: 5.7446 - lr: 0.0010\n",
      "Epoch 25/1000\n",
      "498/498 [==============================] - 2s 3ms/step - loss: 0.3171 - mape: 2.3703 - val_loss: 1.7365 - val_mape: 6.2167 - lr: 0.0010\n",
      "Epoch 26/1000\n",
      "498/498 [==============================] - 2s 3ms/step - loss: 0.3192 - mape: 2.3973 - val_loss: 1.9648 - val_mape: 5.1065 - lr: 0.0010\n",
      "Epoch 27/1000\n",
      "498/498 [==============================] - 2s 3ms/step - loss: 0.3213 - mape: 2.3914 - val_loss: 1.8605 - val_mape: 4.9958 - lr: 0.0010\n",
      "Epoch 28/1000\n",
      "498/498 [==============================] - 2s 3ms/step - loss: 0.3204 - mape: 2.3537 - val_loss: 3.6069 - val_mape: 4.9081 - lr: 0.0010\n",
      "Epoch 29/1000\n",
      "498/498 [==============================] - 2s 4ms/step - loss: 0.3085 - mape: 2.3032 - val_loss: 2.3667 - val_mape: 6.5586 - lr: 0.0010\n",
      "Epoch 30/1000\n",
      "498/498 [==============================] - 2s 4ms/step - loss: 0.3359 - mape: 2.3473 - val_loss: 2.0669 - val_mape: 6.6677 - lr: 0.0010\n",
      "Epoch 31/1000\n",
      "498/498 [==============================] - 2s 4ms/step - loss: 0.3081 - mape: 2.2783 - val_loss: 3.6078 - val_mape: 4.9830 - lr: 0.0010\n",
      "Epoch 32/1000\n",
      "498/498 [==============================] - 2s 3ms/step - loss: 0.3059 - mape: 2.2003 - val_loss: 1.6322 - val_mape: 4.9593 - lr: 0.0010\n",
      "Epoch 33/1000\n",
      "498/498 [==============================] - 2s 3ms/step - loss: 0.2916 - mape: 2.1160 - val_loss: 2.4554 - val_mape: 3.5774 - lr: 0.0010\n",
      "Epoch 34/1000\n",
      "498/498 [==============================] - 2s 3ms/step - loss: 0.3092 - mape: 2.2082 - val_loss: 2.3524 - val_mape: 3.5894 - lr: 0.0010\n",
      "Epoch 35/1000\n",
      "498/498 [==============================] - 2s 3ms/step - loss: 0.3080 - mape: 2.1345 - val_loss: 1.8003 - val_mape: 4.4302 - lr: 0.0010\n",
      "Epoch 36/1000\n",
      "498/498 [==============================] - 2s 4ms/step - loss: 0.2986 - mape: 2.0803 - val_loss: 1.9416 - val_mape: 4.0601 - lr: 0.0010\n",
      "Epoch 37/1000\n",
      "498/498 [==============================] - 2s 4ms/step - loss: 0.3035 - mape: 2.0790 - val_loss: 5.4928 - val_mape: 5.0383 - lr: 0.0010\n",
      "Epoch 38/1000\n",
      "498/498 [==============================] - 2s 4ms/step - loss: 0.3071 - mape: 2.1094 - val_loss: 2.6497 - val_mape: 3.5815 - lr: 0.0010\n",
      "Epoch 39/1000\n",
      "498/498 [==============================] - 2s 4ms/step - loss: 0.3017 - mape: 2.0483 - val_loss: 2.7655 - val_mape: 3.4426 - lr: 0.0010\n",
      "Epoch 40/1000\n",
      "498/498 [==============================] - 2s 3ms/step - loss: 0.2931 - mape: 1.9741 - val_loss: 2.3902 - val_mape: 4.6832 - lr: 0.0010\n",
      "Epoch 41/1000\n",
      "498/498 [==============================] - 2s 3ms/step - loss: 0.2934 - mape: 1.9484 - val_loss: 1.6963 - val_mape: 3.2539 - lr: 0.0010\n",
      "Epoch 42/1000\n",
      "498/498 [==============================] - 2s 3ms/step - loss: 0.2860 - mape: 1.9379 - val_loss: 4.1569 - val_mape: 5.7486 - lr: 0.0010\n",
      "Epoch 43/1000\n",
      "498/498 [==============================] - 2s 3ms/step - loss: 0.2928 - mape: 1.9164 - val_loss: 2.1891 - val_mape: 5.5276 - lr: 0.0010\n",
      "Epoch 44/1000\n",
      "498/498 [==============================] - 2s 3ms/step - loss: 0.2821 - mape: 1.8664 - val_loss: 2.4026 - val_mape: 5.9479 - lr: 0.0010\n",
      "Epoch 45/1000\n",
      "498/498 [==============================] - 2s 3ms/step - loss: 0.3037 - mape: 1.9093 - val_loss: 2.8537 - val_mape: 4.9202 - lr: 0.0010\n",
      "Epoch 46/1000\n",
      "498/498 [==============================] - 2s 3ms/step - loss: 0.3021 - mape: 1.8202 - val_loss: 1.9687 - val_mape: 6.4002 - lr: 0.0010\n",
      "Epoch 47/1000\n",
      "498/498 [==============================] - 2s 5ms/step - loss: 0.2716 - mape: 1.7826 - val_loss: 2.6146 - val_mape: 4.5382 - lr: 0.0010\n",
      "Epoch 48/1000\n",
      "498/498 [==============================] - 2s 4ms/step - loss: 0.3049 - mape: 1.8659 - val_loss: 1.8244 - val_mape: 6.5939 - lr: 0.0010\n",
      "Epoch 49/1000\n",
      "498/498 [==============================] - 2s 3ms/step - loss: 0.2829 - mape: 1.7782 - val_loss: 1.9778 - val_mape: 5.0673 - lr: 0.0010\n",
      "Epoch 50/1000\n",
      "498/498 [==============================] - 2s 4ms/step - loss: 0.2823 - mape: 1.7497 - val_loss: 2.3434 - val_mape: 4.8730 - lr: 0.0010\n",
      "Epoch 51/1000\n",
      "498/498 [==============================] - 2s 4ms/step - loss: 0.2798 - mape: 1.7163 - val_loss: 1.7369 - val_mape: 4.6107 - lr: 0.0010\n",
      "Epoch 52/1000\n",
      "498/498 [==============================] - 2s 3ms/step - loss: 0.2925 - mape: 1.7860 - val_loss: 2.4772 - val_mape: 6.2485 - lr: 0.0010\n",
      "Epoch 53/1000\n",
      "498/498 [==============================] - 2s 3ms/step - loss: 0.2822 - mape: 1.7240 - val_loss: 2.3822 - val_mape: 5.4836 - lr: 0.0010\n",
      "Epoch 54/1000\n",
      "498/498 [==============================] - 2s 3ms/step - loss: 0.3086 - mape: 1.7356 - val_loss: 2.3948 - val_mape: 6.0549 - lr: 0.0010\n",
      "Epoch 55/1000\n",
      "498/498 [==============================] - 2s 4ms/step - loss: 0.2857 - mape: 1.6848 - val_loss: 1.6779 - val_mape: 6.6464 - lr: 0.0010\n",
      "Epoch 56/1000\n",
      "498/498 [==============================] - 2s 4ms/step - loss: 0.2782 - mape: 1.6726 - val_loss: 1.6676 - val_mape: 4.9462 - lr: 0.0010\n",
      "Epoch 57/1000\n",
      "498/498 [==============================] - 2s 4ms/step - loss: 0.2715 - mape: 1.6042 - val_loss: 1.5633 - val_mape: 7.1135 - lr: 0.0010\n",
      "Epoch 58/1000\n",
      "498/498 [==============================] - 2s 4ms/step - loss: 0.2681 - mape: 1.6162 - val_loss: 3.1779 - val_mape: 7.1268 - lr: 0.0010\n",
      "Epoch 59/1000\n",
      "498/498 [==============================] - 2s 3ms/step - loss: 0.2699 - mape: 1.5822 - val_loss: 2.0923 - val_mape: 6.1375 - lr: 0.0010\n",
      "Epoch 60/1000\n",
      "498/498 [==============================] - 2s 3ms/step - loss: 0.2874 - mape: 1.6181 - val_loss: 2.4897 - val_mape: 6.2131 - lr: 0.0010\n",
      "Epoch 61/1000\n",
      "498/498 [==============================] - 2s 4ms/step - loss: 0.2657 - mape: 1.4975 - val_loss: 3.2525 - val_mape: 7.4712 - lr: 0.0010\n",
      "Epoch 62/1000\n",
      "498/498 [==============================] - 2s 3ms/step - loss: 0.2737 - mape: 1.5012 - val_loss: 2.0750 - val_mape: 6.7782 - lr: 0.0010\n",
      "Epoch 63/1000\n",
      "498/498 [==============================] - 2s 4ms/step - loss: 0.2707 - mape: 1.4767 - val_loss: 1.6459 - val_mape: 5.6475 - lr: 0.0010\n",
      "Epoch 64/1000\n",
      "498/498 [==============================] - 2s 4ms/step - loss: 0.2813 - mape: 1.4916 - val_loss: 2.1184 - val_mape: 6.2861 - lr: 0.0010\n",
      "Epoch 65/1000\n",
      "498/498 [==============================] - 2s 4ms/step - loss: 0.2662 - mape: 1.4450 - val_loss: 2.3944 - val_mape: 4.7233 - lr: 0.0010\n",
      "Epoch 66/1000\n",
      "498/498 [==============================] - 2s 4ms/step - loss: 0.2761 - mape: 1.4215 - val_loss: 2.1814 - val_mape: 6.3962 - lr: 0.0010\n",
      "Epoch 67/1000\n",
      "498/498 [==============================] - 2s 4ms/step - loss: 0.2729 - mape: 1.3846 - val_loss: 2.4301 - val_mape: 5.0498 - lr: 0.0010\n",
      "Epoch 68/1000\n",
      "498/498 [==============================] - 2s 3ms/step - loss: 0.2781 - mape: 1.3693 - val_loss: 3.3781 - val_mape: 5.5511 - lr: 0.0010\n",
      "Epoch 69/1000\n",
      "498/498 [==============================] - 2s 3ms/step - loss: 0.2754 - mape: 1.3684 - val_loss: 2.4910 - val_mape: 6.1741 - lr: 0.0010\n",
      "Epoch 70/1000\n",
      "498/498 [==============================] - 2s 4ms/step - loss: 0.2708 - mape: 1.3662 - val_loss: 3.1462 - val_mape: 6.2509 - lr: 0.0010\n",
      "Epoch 71/1000\n",
      "486/498 [============================>.] - ETA: 0s - loss: 0.2725 - mape: 1.3319\n",
      "Epoch 71: ReduceLROnPlateau reducing learning rate to 0.00010000000474974513.\n",
      "498/498 [==============================] - 2s 3ms/step - loss: 0.2720 - mape: 1.3287 - val_loss: 2.4842 - val_mape: 5.2874 - lr: 0.0010\n",
      "Epoch 72/1000\n",
      "498/498 [==============================] - 2s 3ms/step - loss: 0.2229 - mape: 0.9712 - val_loss: 2.5999 - val_mape: 4.3685 - lr: 1.0000e-04\n",
      "Epoch 73/1000\n",
      "498/498 [==============================] - 2s 3ms/step - loss: 0.2224 - mape: 0.9549 - val_loss: 2.4668 - val_mape: 4.5075 - lr: 1.0000e-04\n",
      "Epoch 74/1000\n",
      "498/498 [==============================] - 2s 3ms/step - loss: 0.2234 - mape: 0.9655 - val_loss: 2.5881 - val_mape: 4.2479 - lr: 1.0000e-04\n",
      "Epoch 75/1000\n",
      "498/498 [==============================] - 2s 3ms/step - loss: 0.2210 - mape: 0.9508 - val_loss: 2.7659 - val_mape: 4.2612 - lr: 1.0000e-04\n",
      "Epoch 76/1000\n",
      "498/498 [==============================] - 2s 3ms/step - loss: 0.2231 - mape: 0.9680 - val_loss: 2.7271 - val_mape: 4.1253 - lr: 1.0000e-04\n",
      "Epoch 77/1000\n",
      "498/498 [==============================] - 2s 3ms/step - loss: 0.2228 - mape: 0.9648 - val_loss: 2.6273 - val_mape: 4.1087 - lr: 1.0000e-04\n",
      "Epoch 78/1000\n",
      "498/498 [==============================] - 2s 4ms/step - loss: 0.2243 - mape: 0.9812 - val_loss: 2.9100 - val_mape: 4.1816 - lr: 1.0000e-04\n",
      "Epoch 79/1000\n",
      "498/498 [==============================] - 2s 3ms/step - loss: 0.2232 - mape: 0.9731 - val_loss: 2.9141 - val_mape: 4.4660 - lr: 1.0000e-04\n",
      "Epoch 80/1000\n",
      "498/498 [==============================] - 2s 3ms/step - loss: 0.2247 - mape: 0.9769 - val_loss: 2.5526 - val_mape: 4.1182 - lr: 1.0000e-04\n",
      "Epoch 81/1000\n",
      "498/498 [==============================] - 2s 3ms/step - loss: 0.2239 - mape: 0.9727 - val_loss: 2.8814 - val_mape: 4.5784 - lr: 1.0000e-04\n",
      "Epoch 82/1000\n",
      "498/498 [==============================] - 2s 3ms/step - loss: 0.2222 - mape: 0.9648 - val_loss: 2.3490 - val_mape: 3.8596 - lr: 1.0000e-04\n",
      "Epoch 83/1000\n",
      "498/498 [==============================] - 2s 3ms/step - loss: 0.2256 - mape: 0.9831 - val_loss: 2.8704 - val_mape: 4.6830 - lr: 1.0000e-04\n",
      "Epoch 84/1000\n",
      "498/498 [==============================] - 2s 3ms/step - loss: 0.2226 - mape: 0.9704 - val_loss: 3.3133 - val_mape: 4.0387 - lr: 1.0000e-04\n",
      "Epoch 85/1000\n",
      "498/498 [==============================] - 2s 4ms/step - loss: 0.2217 - mape: 0.9583 - val_loss: 2.7024 - val_mape: 3.9474 - lr: 1.0000e-04\n",
      "Epoch 86/1000\n",
      "498/498 [==============================] - 2s 4ms/step - loss: 0.2220 - mape: 0.9606 - val_loss: 2.8532 - val_mape: 3.9561 - lr: 1.0000e-04\n",
      "Epoch 87/1000\n",
      "498/498 [==============================] - 2s 4ms/step - loss: 0.2215 - mape: 0.9492 - val_loss: 3.4327 - val_mape: 3.9209 - lr: 1.0000e-04\n",
      "Epoch 88/1000\n",
      "498/498 [==============================] - 2s 3ms/step - loss: 0.2215 - mape: 0.9572 - val_loss: 3.4387 - val_mape: 3.8335 - lr: 1.0000e-04\n",
      "Epoch 89/1000\n",
      "498/498 [==============================] - 2s 4ms/step - loss: 0.2236 - mape: 0.9764 - val_loss: 3.3633 - val_mape: 4.0286 - lr: 1.0000e-04\n",
      "Epoch 90/1000\n",
      "498/498 [==============================] - 2s 4ms/step - loss: 0.2227 - mape: 0.9537 - val_loss: 3.3924 - val_mape: 3.8097 - lr: 1.0000e-04\n",
      "Epoch 91/1000\n",
      "498/498 [==============================] - 2s 4ms/step - loss: 0.2198 - mape: 0.9373 - val_loss: 3.4591 - val_mape: 3.9796 - lr: 1.0000e-04\n"
     ]
    }
   ],
   "source": [
    "history = model_one_targ1.fit(X_tr2, \n",
    "                              y_tr2, \n",
    "                              epochs=1000, \n",
    "                              batch_size=256, \n",
    "                              validation_data=(X_val2, y_val2),\n",
    "                              callbacks=[reducelr_callb,\n",
    "                                         checkpoint_callb1,\n",
    "                                         earlystop_callb\n",
    "                                         ]\n",
    "                              )"
   ]
  },
  {
   "cell_type": "code",
   "execution_count": 21,
   "metadata": {
    "id": "TonzjgdVvxcM"
   },
   "outputs": [],
   "source": [
    "model_one_targ1 = load_model('model_targ1.h5')"
   ]
  },
  {
   "cell_type": "code",
   "execution_count": 22,
   "metadata": {
    "colab": {
     "base_uri": "https://localhost:8080/"
    },
    "id": "v9Ebq8gdvxcN",
    "outputId": "5306296d-8c8d-421f-e657-55077c0f5b9c"
   },
   "outputs": [
    {
     "name": "stdout",
     "output_type": "stream",
     "text": [
      "3979/3979 [==============================] - 3s 867us/step\n",
      "816/816 [==============================] - 1s 897us/step\n"
     ]
    }
   ],
   "source": [
    "pred3 = np.array(model_one_targ1.predict(X_tr2))\n",
    "pred4 = np.array(model_one_targ1.predict(X_val2))"
   ]
  },
  {
   "cell_type": "code",
   "execution_count": 23,
   "metadata": {
    "ExecuteTime": {
     "end_time": "2023-05-20T08:12:38.318940Z",
     "start_time": "2023-05-20T08:12:38.305583Z"
    },
    "colab": {
     "base_uri": "https://localhost:8080/"
    },
    "id": "5dYiG_gfvxcO",
    "outputId": "321031a1-83d0-4893-9a0d-6164cab214cd"
   },
   "outputs": [
    {
     "name": "stdout",
     "output_type": "stream",
     "text": [
      "MAPE (train): 2.025 %\n",
      "MAPE (val): 3.254 %\n"
     ]
    }
   ],
   "source": [
    "print(f\"MAPE (train): {mean_absolute_percentage_error(y_tr2, pred3) * 100:.3f} %\")\n",
    "print(f\"MAPE (val): {mean_absolute_percentage_error(y_val2, pred4) * 100:.3f} %\")"
   ]
  },
  {
   "cell_type": "code",
   "execution_count": 24,
   "metadata": {
    "id": "DW1Ve-7gvxcP"
   },
   "outputs": [],
   "source": [
    "model_one_targ1.save('model_targ1.h5')"
   ]
  },
  {
   "cell_type": "markdown",
   "metadata": {
    "id": "Kiimvhk8vFnl"
   },
   "source": [
    "# общий mape"
   ]
  },
  {
   "cell_type": "code",
   "execution_count": 25,
   "metadata": {
    "colab": {
     "base_uri": "https://localhost:8080/"
    },
    "id": "boge7v4cyj-8",
    "outputId": "41d91818-94ab-41dc-ce81-14203609e38d"
   },
   "outputs": [
    {
     "name": "stdout",
     "output_type": "stream",
     "text": [
      "3979/3979 [==============================] - 3s 867us/step\n",
      "3979/3979 [==============================] - 4s 943us/step\n",
      "816/816 [==============================] - 1s 901us/step\n",
      "816/816 [==============================] - 1s 881us/step\n"
     ]
    }
   ],
   "source": [
    "pred = np.concatenate([model_one_targ0.predict(X_tr1), model_one_targ1.predict(X_tr2)])\n",
    "pred1 = np.concatenate([model_one_targ0.predict(X_val1), model_one_targ1.predict(X_val2)])"
   ]
  },
  {
   "cell_type": "code",
   "execution_count": 26,
   "metadata": {
    "colab": {
     "base_uri": "https://localhost:8080/"
    },
    "id": "U8AyhxT9yj-t",
    "outputId": "fdb91f54-a39b-44bf-f876-0cf7c0185900"
   },
   "outputs": [
    {
     "name": "stdout",
     "output_type": "stream",
     "text": [
      "общий DL MAPE (train): 1.202 %\n",
      "общий DL MAPE (val): 1.868 %\n"
     ]
    }
   ],
   "source": [
    "print(f\"общий DL MAPE (train): {mean_absolute_percentage_error(np.concatenate([y_tr1, y_tr2]), pred) * 100:.3f} %\")\n",
    "print(f\"общий DL MAPE (val): {mean_absolute_percentage_error(np.concatenate([y_val1, y_val2]), pred1) * 100:.3f} %\")"
   ]
  },
  {
   "cell_type": "code",
   "execution_count": 27,
   "metadata": {
    "id": "Za97cd04mtcM"
   },
   "outputs": [],
   "source": [
    "save_model(model_one_targ1, DATA_DIR.joinpath(f\"target1-cb-v1.h5\"))\n",
    "save_model(model_one_targ0, DATA_DIR.joinpath(f\"target0-cb-v1.h5\"))"
   ]
  },
  {
   "cell_type": "markdown",
   "metadata": {
    "ExecuteTime": {
     "end_time": "2023-05-21T22:28:55.225855Z",
     "start_time": "2023-05-21T22:28:55.212112Z"
    },
    "id": "Sgh9w-Ds6C1h"
   },
   "source": [
    "# Создаём сабмит"
   ]
  },
  {
   "cell_type": "code",
   "execution_count": 28,
   "metadata": {
    "colab": {
     "base_uri": "https://localhost:8080/"
    },
    "id": "5MkOQGAb_vV0",
    "outputId": "45ba874f-8cd3-4921-d5fc-7ae73e5f2368"
   },
   "outputs": [
    {
     "name": "stdout",
     "output_type": "stream",
     "text": [
      "Overwriting predict.py\n"
     ]
    }
   ],
   "source": [
    "%%writefile predict.py\n",
    "import pathlib\n",
    "import pandas as pd\n",
    "import numpy as np\n",
    "import keras\n",
    "\n",
    "DATA_DIR = pathlib.Path(\".\")\n",
    "MODEL_FILE_0 = pathlib.Path(__file__).parent.joinpath(\"target0-cb-v1.h5\")\n",
    "MODEL_FILE_1 = pathlib.Path(__file__).parent.joinpath(\"target1-cb-v1.h5\")\n",
    "\n",
    "def predict(df: pd.DataFrame) -> pd.DataFrame:\n",
    "    \"\"\"\n",
    "    Вычисление предсказаний.\n",
    "\n",
    "    Параметры:\n",
    "        df:\n",
    "          датафрейм, содержащий строки из тестового множества.\n",
    "          Типы и имена колонок совпадают с типами и именами в ноутбуке, не содержит `np.nan` или `np.inf`.\n",
    "\n",
    "    Результат:\n",
    "        Датафрейм предсказаний.\n",
    "        Должен содержать то же количество строк и в том же порядке, а также колонки `target0` и `target1`.\n",
    "    \"\"\"   \n",
    "\n",
    "    predictions = {}\n",
    "\n",
    "    df[\"gas\"] = 0\n",
    "    df.loc[df.feature4==\"gas2\", \"gas\"] = 1\n",
    "    FTS = df.columns.difference([\"feature4\"])\n",
    "    FTS = FTS.drop('feature15')\n",
    "    df0 = df[FTS]\n",
    "    \n",
    "\n",
    "    '''\n",
    "        блок для тарг0\n",
    "    ''' \n",
    "    model_zero = keras.models.load_model(MODEL_FILE_0)\n",
    "    \n",
    "    pred1 = model_zero.predict(df0, verbose=0)\n",
    "\n",
    "    predictions['target0'] = [i[0] for i in pred1]\n",
    "\n",
    "    '''\n",
    "        блок тарг1\n",
    "    '''\n",
    "    model_one = keras.models.load_model(MODEL_FILE_1)\n",
    "\n",
    "    pred2 = model_one.predict(df0, verbose=0)\n",
    "\n",
    "    predictions['target1'] = [i[0] for i in pred2]\n",
    "\n",
    "    preds_df = pd.DataFrame(predictions, index=df.index)\n",
    "    return preds_df"
   ]
  }
 ],
 "metadata": {
  "accelerator": "GPU",
  "colab": {
   "gpuType": "T4",
   "provenance": []
  },
  "kernelspec": {
   "display_name": "Python 3 (ipykernel)",
   "language": "python",
   "name": "python3"
  },
  "language_info": {
   "codemirror_mode": {
    "name": "ipython",
    "version": 3
   },
   "file_extension": ".py",
   "mimetype": "text/x-python",
   "name": "python",
   "nbconvert_exporter": "python",
   "pygments_lexer": "ipython3",
   "version": "3.9.16"
  },
  "vscode": {
   "interpreter": {
    "hash": "8566eb0607572741f5df0b9bba8d97b510d80a4d430b258b7e0e8478f0b151dd"
   }
  }
 },
 "nbformat": 4,
 "nbformat_minor": 4
}
